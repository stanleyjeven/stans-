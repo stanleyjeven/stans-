{
 "cells": [
  {
   "cell_type": "markdown",
   "id": "dsC10S3Xw_4L",
   "metadata": {
    "id": "dsC10S3Xw_4L"
   },
   "source": [
    "**Perbandingan Algoritma Regresi Linear dan RNN Terhadap Healthy Life Expectancy**"
   ]
  },
  {
   "cell_type": "code",
   "execution_count": 1,
   "id": "ZzxNaILdgwlt",
   "metadata": {
    "id": "ZzxNaILdgwlt"
   },
   "outputs": [],
   "source": [
    "#!pip install leaflet"
   ]
  },
  {
   "cell_type": "markdown",
   "id": "8BqA9eAgzp3p",
   "metadata": {
    "id": "8BqA9eAgzp3p"
   },
   "source": [
    "**Import Library**"
   ]
  },
  {
   "cell_type": "code",
   "execution_count": 2,
   "id": "422291ce",
   "metadata": {
    "id": "422291ce"
   },
   "outputs": [],
   "source": [
    "import pandas as pd\n",
    "import numpy as np\n",
    "import matplotlib.pyplot as plt\n",
    "import seaborn as sns\n",
    "import tensorflow as tf\n",
    "\n",
    "#from google.colab import files\n",
    "\n",
    "from sklearn.linear_model import LinearRegression\n",
    "from sklearn.model_selection import cross_val_score\n",
    "from sklearn.model_selection import train_test_split\n",
    "from sklearn.metrics import mean_squared_error, mean_absolute_error, r2_score\n",
    "\n",
    "from keras.layers import SimpleRNN\n",
    "from keras.utils import to_categorical\n",
    "from tensorflow.keras.models import Sequential\n",
    "from tensorflow.keras.preprocessing.text import Tokenizer\n",
    "from tensorflow.keras.layers import Dense, Embedding, Activation, Dropout\n",
    "from tensorflow.keras.preprocessing.sequence import pad_sequences\n"
   ]
  },
  {
   "cell_type": "markdown",
   "id": "sAiF9xXtzttJ",
   "metadata": {
    "id": "sAiF9xXtzttJ"
   },
   "source": [
    "**Import Dataset**"
   ]
  },
  {
   "cell_type": "code",
   "execution_count": 3,
   "id": "dd117ca1",
   "metadata": {
    "colab": {
     "base_uri": "https://localhost:8080/",
     "height": 73
    },
    "id": "dd117ca1",
    "outputId": "017f3e1b-4ad2-4e12-eef6-550c41b4e51a"
   },
   "outputs": [],
   "source": [
    "air = pd.read_csv(\"2019.csv\")\n",
    "#uploaded = files.upload()"
   ]
  },
  {
   "cell_type": "markdown",
   "id": "9A9nagCdz1eC",
   "metadata": {
    "id": "9A9nagCdz1eC"
   },
   "source": [
    "**Read Dataset**"
   ]
  },
  {
   "cell_type": "code",
   "execution_count": 4,
   "id": "bc307b61",
   "metadata": {
    "colab": {
     "base_uri": "https://localhost:8080/",
     "height": 592
    },
    "id": "bc307b61",
    "outputId": "06bedacf-81cb-4761-a9f1-fe359773640f",
    "scrolled": true
   },
   "outputs": [
    {
     "data": {
      "text/html": [
       "<div>\n",
       "<style scoped>\n",
       "    .dataframe tbody tr th:only-of-type {\n",
       "        vertical-align: middle;\n",
       "    }\n",
       "\n",
       "    .dataframe tbody tr th {\n",
       "        vertical-align: top;\n",
       "    }\n",
       "\n",
       "    .dataframe thead th {\n",
       "        text-align: right;\n",
       "    }\n",
       "</style>\n",
       "<table border=\"1\" class=\"dataframe\">\n",
       "  <thead>\n",
       "    <tr style=\"text-align: right;\">\n",
       "      <th></th>\n",
       "      <th>Overall rank</th>\n",
       "      <th>Country or region</th>\n",
       "      <th>Score</th>\n",
       "      <th>GDP per capita</th>\n",
       "      <th>Social support</th>\n",
       "      <th>Healthy life expectancy</th>\n",
       "      <th>Freedom to make life choices</th>\n",
       "      <th>Generosity</th>\n",
       "      <th>Perceptions of corruption</th>\n",
       "    </tr>\n",
       "  </thead>\n",
       "  <tbody>\n",
       "    <tr>\n",
       "      <th>0</th>\n",
       "      <td>1</td>\n",
       "      <td>Finland</td>\n",
       "      <td>7.769</td>\n",
       "      <td>1.340</td>\n",
       "      <td>1.587</td>\n",
       "      <td>0.986</td>\n",
       "      <td>0.596</td>\n",
       "      <td>0.153</td>\n",
       "      <td>0.393</td>\n",
       "    </tr>\n",
       "    <tr>\n",
       "      <th>1</th>\n",
       "      <td>2</td>\n",
       "      <td>Denmark</td>\n",
       "      <td>7.600</td>\n",
       "      <td>1.383</td>\n",
       "      <td>1.573</td>\n",
       "      <td>0.996</td>\n",
       "      <td>0.592</td>\n",
       "      <td>0.252</td>\n",
       "      <td>0.410</td>\n",
       "    </tr>\n",
       "    <tr>\n",
       "      <th>2</th>\n",
       "      <td>3</td>\n",
       "      <td>Norway</td>\n",
       "      <td>7.554</td>\n",
       "      <td>1.488</td>\n",
       "      <td>1.582</td>\n",
       "      <td>1.028</td>\n",
       "      <td>0.603</td>\n",
       "      <td>0.271</td>\n",
       "      <td>0.341</td>\n",
       "    </tr>\n",
       "    <tr>\n",
       "      <th>3</th>\n",
       "      <td>4</td>\n",
       "      <td>Iceland</td>\n",
       "      <td>7.494</td>\n",
       "      <td>1.380</td>\n",
       "      <td>1.624</td>\n",
       "      <td>1.026</td>\n",
       "      <td>0.591</td>\n",
       "      <td>0.354</td>\n",
       "      <td>0.118</td>\n",
       "    </tr>\n",
       "    <tr>\n",
       "      <th>4</th>\n",
       "      <td>5</td>\n",
       "      <td>Netherlands</td>\n",
       "      <td>7.488</td>\n",
       "      <td>1.396</td>\n",
       "      <td>1.522</td>\n",
       "      <td>0.999</td>\n",
       "      <td>0.557</td>\n",
       "      <td>0.322</td>\n",
       "      <td>0.298</td>\n",
       "    </tr>\n",
       "    <tr>\n",
       "      <th>...</th>\n",
       "      <td>...</td>\n",
       "      <td>...</td>\n",
       "      <td>...</td>\n",
       "      <td>...</td>\n",
       "      <td>...</td>\n",
       "      <td>...</td>\n",
       "      <td>...</td>\n",
       "      <td>...</td>\n",
       "      <td>...</td>\n",
       "    </tr>\n",
       "    <tr>\n",
       "      <th>151</th>\n",
       "      <td>152</td>\n",
       "      <td>Rwanda</td>\n",
       "      <td>3.334</td>\n",
       "      <td>0.359</td>\n",
       "      <td>0.711</td>\n",
       "      <td>0.614</td>\n",
       "      <td>0.555</td>\n",
       "      <td>0.217</td>\n",
       "      <td>0.411</td>\n",
       "    </tr>\n",
       "    <tr>\n",
       "      <th>152</th>\n",
       "      <td>153</td>\n",
       "      <td>Tanzania</td>\n",
       "      <td>3.231</td>\n",
       "      <td>0.476</td>\n",
       "      <td>0.885</td>\n",
       "      <td>0.499</td>\n",
       "      <td>0.417</td>\n",
       "      <td>0.276</td>\n",
       "      <td>0.147</td>\n",
       "    </tr>\n",
       "    <tr>\n",
       "      <th>153</th>\n",
       "      <td>154</td>\n",
       "      <td>Afghanistan</td>\n",
       "      <td>3.203</td>\n",
       "      <td>0.350</td>\n",
       "      <td>0.517</td>\n",
       "      <td>0.361</td>\n",
       "      <td>0.000</td>\n",
       "      <td>0.158</td>\n",
       "      <td>0.025</td>\n",
       "    </tr>\n",
       "    <tr>\n",
       "      <th>154</th>\n",
       "      <td>155</td>\n",
       "      <td>Central African Republic</td>\n",
       "      <td>3.083</td>\n",
       "      <td>0.026</td>\n",
       "      <td>0.000</td>\n",
       "      <td>0.105</td>\n",
       "      <td>0.225</td>\n",
       "      <td>0.235</td>\n",
       "      <td>0.035</td>\n",
       "    </tr>\n",
       "    <tr>\n",
       "      <th>155</th>\n",
       "      <td>156</td>\n",
       "      <td>South Sudan</td>\n",
       "      <td>2.853</td>\n",
       "      <td>0.306</td>\n",
       "      <td>0.575</td>\n",
       "      <td>0.295</td>\n",
       "      <td>0.010</td>\n",
       "      <td>0.202</td>\n",
       "      <td>0.091</td>\n",
       "    </tr>\n",
       "  </tbody>\n",
       "</table>\n",
       "<p>156 rows × 9 columns</p>\n",
       "</div>"
      ],
      "text/plain": [
       "     Overall rank         Country or region  Score  GDP per capita  \\\n",
       "0               1                   Finland  7.769           1.340   \n",
       "1               2                   Denmark  7.600           1.383   \n",
       "2               3                    Norway  7.554           1.488   \n",
       "3               4                   Iceland  7.494           1.380   \n",
       "4               5               Netherlands  7.488           1.396   \n",
       "..            ...                       ...    ...             ...   \n",
       "151           152                    Rwanda  3.334           0.359   \n",
       "152           153                  Tanzania  3.231           0.476   \n",
       "153           154               Afghanistan  3.203           0.350   \n",
       "154           155  Central African Republic  3.083           0.026   \n",
       "155           156               South Sudan  2.853           0.306   \n",
       "\n",
       "     Social support  Healthy life expectancy  Freedom to make life choices  \\\n",
       "0             1.587                    0.986                         0.596   \n",
       "1             1.573                    0.996                         0.592   \n",
       "2             1.582                    1.028                         0.603   \n",
       "3             1.624                    1.026                         0.591   \n",
       "4             1.522                    0.999                         0.557   \n",
       "..              ...                      ...                           ...   \n",
       "151           0.711                    0.614                         0.555   \n",
       "152           0.885                    0.499                         0.417   \n",
       "153           0.517                    0.361                         0.000   \n",
       "154           0.000                    0.105                         0.225   \n",
       "155           0.575                    0.295                         0.010   \n",
       "\n",
       "     Generosity  Perceptions of corruption  \n",
       "0         0.153                      0.393  \n",
       "1         0.252                      0.410  \n",
       "2         0.271                      0.341  \n",
       "3         0.354                      0.118  \n",
       "4         0.322                      0.298  \n",
       "..          ...                        ...  \n",
       "151       0.217                      0.411  \n",
       "152       0.276                      0.147  \n",
       "153       0.158                      0.025  \n",
       "154       0.235                      0.035  \n",
       "155       0.202                      0.091  \n",
       "\n",
       "[156 rows x 9 columns]"
      ]
     },
     "execution_count": 4,
     "metadata": {},
     "output_type": "execute_result"
    }
   ],
   "source": [
    "air = pd.read_csv('2019.csv')\n",
    "air"
   ]
  },
  {
   "cell_type": "markdown",
   "id": "lHVQNgXGz3vC",
   "metadata": {
    "id": "lHVQNgXGz3vC"
   },
   "source": [
    "**Drop Column Not Used**"
   ]
  },
  {
   "cell_type": "code",
   "execution_count": 5,
   "id": "10adbe15",
   "metadata": {
    "id": "10adbe15"
   },
   "outputs": [],
   "source": [
    "air = air.drop(['Generosity','Country or region'],axis=1)"
   ]
  },
  {
   "cell_type": "markdown",
   "id": "QQaa8rro7dIC",
   "metadata": {
    "id": "QQaa8rro7dIC"
   },
   "source": [
    "**Information Dataset**"
   ]
  },
  {
   "cell_type": "code",
   "execution_count": 6,
   "id": "f0efa780",
   "metadata": {
    "colab": {
     "base_uri": "https://localhost:8080/"
    },
    "id": "f0efa780",
    "outputId": "66042ed7-e06e-4259-9b4e-b3cfa1641baf",
    "scrolled": true
   },
   "outputs": [
    {
     "name": "stdout",
     "output_type": "stream",
     "text": [
      "<class 'pandas.core.frame.DataFrame'>\n",
      "RangeIndex: 156 entries, 0 to 155\n",
      "Data columns (total 7 columns):\n",
      " #   Column                        Non-Null Count  Dtype  \n",
      "---  ------                        --------------  -----  \n",
      " 0   Overall rank                  156 non-null    int64  \n",
      " 1   Score                         156 non-null    float64\n",
      " 2   GDP per capita                156 non-null    float64\n",
      " 3   Social support                156 non-null    float64\n",
      " 4   Healthy life expectancy       156 non-null    float64\n",
      " 5   Freedom to make life choices  156 non-null    float64\n",
      " 6   Perceptions of corruption     156 non-null    float64\n",
      "dtypes: float64(6), int64(1)\n",
      "memory usage: 8.7 KB\n"
     ]
    }
   ],
   "source": [
    "air.info()"
   ]
  },
  {
   "cell_type": "markdown",
   "id": "Lejo3utC7lfo",
   "metadata": {
    "id": "Lejo3utC7lfo"
   },
   "source": [
    "**Result Dataset**"
   ]
  },
  {
   "cell_type": "code",
   "execution_count": 7,
   "id": "4270af9a",
   "metadata": {
    "colab": {
     "base_uri": "https://localhost:8080/",
     "height": 285
    },
    "id": "4270af9a",
    "outputId": "7f6ce285-4bbb-4596-f43c-4e2c0385e332",
    "scrolled": true
   },
   "outputs": [
    {
     "data": {
      "text/html": [
       "<div>\n",
       "<style scoped>\n",
       "    .dataframe tbody tr th:only-of-type {\n",
       "        vertical-align: middle;\n",
       "    }\n",
       "\n",
       "    .dataframe tbody tr th {\n",
       "        vertical-align: top;\n",
       "    }\n",
       "\n",
       "    .dataframe thead th {\n",
       "        text-align: right;\n",
       "    }\n",
       "</style>\n",
       "<table border=\"1\" class=\"dataframe\">\n",
       "  <thead>\n",
       "    <tr style=\"text-align: right;\">\n",
       "      <th></th>\n",
       "      <th>Overall rank</th>\n",
       "      <th>Score</th>\n",
       "      <th>GDP per capita</th>\n",
       "      <th>Social support</th>\n",
       "      <th>Healthy life expectancy</th>\n",
       "      <th>Freedom to make life choices</th>\n",
       "      <th>Perceptions of corruption</th>\n",
       "    </tr>\n",
       "  </thead>\n",
       "  <tbody>\n",
       "    <tr>\n",
       "      <th>0</th>\n",
       "      <td>1</td>\n",
       "      <td>7.769</td>\n",
       "      <td>1.340</td>\n",
       "      <td>1.587</td>\n",
       "      <td>0.986</td>\n",
       "      <td>0.596</td>\n",
       "      <td>0.393</td>\n",
       "    </tr>\n",
       "    <tr>\n",
       "      <th>1</th>\n",
       "      <td>2</td>\n",
       "      <td>7.600</td>\n",
       "      <td>1.383</td>\n",
       "      <td>1.573</td>\n",
       "      <td>0.996</td>\n",
       "      <td>0.592</td>\n",
       "      <td>0.410</td>\n",
       "    </tr>\n",
       "    <tr>\n",
       "      <th>2</th>\n",
       "      <td>3</td>\n",
       "      <td>7.554</td>\n",
       "      <td>1.488</td>\n",
       "      <td>1.582</td>\n",
       "      <td>1.028</td>\n",
       "      <td>0.603</td>\n",
       "      <td>0.341</td>\n",
       "    </tr>\n",
       "    <tr>\n",
       "      <th>3</th>\n",
       "      <td>4</td>\n",
       "      <td>7.494</td>\n",
       "      <td>1.380</td>\n",
       "      <td>1.624</td>\n",
       "      <td>1.026</td>\n",
       "      <td>0.591</td>\n",
       "      <td>0.118</td>\n",
       "    </tr>\n",
       "    <tr>\n",
       "      <th>4</th>\n",
       "      <td>5</td>\n",
       "      <td>7.488</td>\n",
       "      <td>1.396</td>\n",
       "      <td>1.522</td>\n",
       "      <td>0.999</td>\n",
       "      <td>0.557</td>\n",
       "      <td>0.298</td>\n",
       "    </tr>\n",
       "  </tbody>\n",
       "</table>\n",
       "</div>"
      ],
      "text/plain": [
       "   Overall rank  Score  GDP per capita  Social support  \\\n",
       "0             1  7.769           1.340           1.587   \n",
       "1             2  7.600           1.383           1.573   \n",
       "2             3  7.554           1.488           1.582   \n",
       "3             4  7.494           1.380           1.624   \n",
       "4             5  7.488           1.396           1.522   \n",
       "\n",
       "   Healthy life expectancy  Freedom to make life choices  \\\n",
       "0                    0.986                         0.596   \n",
       "1                    0.996                         0.592   \n",
       "2                    1.028                         0.603   \n",
       "3                    1.026                         0.591   \n",
       "4                    0.999                         0.557   \n",
       "\n",
       "   Perceptions of corruption  \n",
       "0                      0.393  \n",
       "1                      0.410  \n",
       "2                      0.341  \n",
       "3                      0.118  \n",
       "4                      0.298  "
      ]
     },
     "execution_count": 7,
     "metadata": {},
     "output_type": "execute_result"
    }
   ],
   "source": [
    "air.head()"
   ]
  },
  {
   "cell_type": "markdown",
   "id": "f5rR2eBh7p21",
   "metadata": {
    "id": "f5rR2eBh7p21"
   },
   "source": [
    "**Check Data Null**"
   ]
  },
  {
   "cell_type": "code",
   "execution_count": 8,
   "id": "9a245e45",
   "metadata": {
    "colab": {
     "base_uri": "https://localhost:8080/"
    },
    "id": "9a245e45",
    "outputId": "b3b84bed-5719-4441-95cf-b9f8548f8a77",
    "scrolled": true
   },
   "outputs": [
    {
     "data": {
      "text/plain": [
       "Overall rank                    0\n",
       "Score                           0\n",
       "GDP per capita                  0\n",
       "Social support                  0\n",
       "Healthy life expectancy         0\n",
       "Freedom to make life choices    0\n",
       "Perceptions of corruption       0\n",
       "dtype: int64"
      ]
     },
     "execution_count": 8,
     "metadata": {},
     "output_type": "execute_result"
    }
   ],
   "source": [
    "air.isna().sum()"
   ]
  },
  {
   "cell_type": "code",
   "execution_count": 9,
   "id": "afbcc785",
   "metadata": {
    "colab": {
     "base_uri": "https://localhost:8080/"
    },
    "id": "afbcc785",
    "outputId": "a0d0468b-5814-4726-9472-0e85e50a18f8"
   },
   "outputs": [
    {
     "name": "stdout",
     "output_type": "stream",
     "text": [
      "<class 'pandas.core.frame.DataFrame'>\n",
      "RangeIndex: 156 entries, 0 to 155\n",
      "Data columns (total 7 columns):\n",
      " #   Column                        Non-Null Count  Dtype  \n",
      "---  ------                        --------------  -----  \n",
      " 0   Overall rank                  156 non-null    int64  \n",
      " 1   Score                         156 non-null    float64\n",
      " 2   GDP per capita                156 non-null    float64\n",
      " 3   Social support                156 non-null    float64\n",
      " 4   Healthy life expectancy       156 non-null    float64\n",
      " 5   Freedom to make life choices  156 non-null    float64\n",
      " 6   Perceptions of corruption     156 non-null    float64\n",
      "dtypes: float64(6), int64(1)\n",
      "memory usage: 8.7 KB\n"
     ]
    }
   ],
   "source": [
    "air2 = air.dropna(axis = 1)\n",
    "air2.info()"
   ]
  },
  {
   "cell_type": "code",
   "execution_count": 10,
   "id": "gPI9un4ICaIT",
   "metadata": {
    "colab": {
     "base_uri": "https://localhost:8080/"
    },
    "id": "gPI9un4ICaIT",
    "outputId": "67fb8edf-e053-41ca-da92-c6addacbf767"
   },
   "outputs": [
    {
     "data": {
      "text/plain": [
       "Overall rank                    0\n",
       "Score                           0\n",
       "GDP per capita                  0\n",
       "Social support                  0\n",
       "Healthy life expectancy         0\n",
       "Freedom to make life choices    0\n",
       "Perceptions of corruption       0\n",
       "dtype: int64"
      ]
     },
     "execution_count": 10,
     "metadata": {},
     "output_type": "execute_result"
    }
   ],
   "source": [
    "air2.isna().sum()"
   ]
  },
  {
   "cell_type": "markdown",
   "id": "AVm92kR1EzZt",
   "metadata": {
    "id": "AVm92kR1EzZt"
   },
   "source": [
    "**Heatmap**"
   ]
  },
  {
   "cell_type": "code",
   "execution_count": 11,
   "id": "2ddc93c4",
   "metadata": {
    "colab": {
     "base_uri": "https://localhost:8080/",
     "height": 681
    },
    "id": "2ddc93c4",
    "outputId": "67037264-1f76-47b8-d3aa-bd6cf5d2dfc2"
   },
   "outputs": [
    {
     "data": {
      "text/plain": [
       "<Axes: >"
      ]
     },
     "execution_count": 11,
     "metadata": {},
     "output_type": "execute_result"
    },
    {
     "data": {
      "image/png": "[encoded data removed]",
      "text/plain": [
       "<Figure size 700x900 with 2 Axes>"
      ]
     },
     "metadata": {},
     "output_type": "display_data"
    }
   ],
   "source": [
    "ax = plt.subplots(figsize=(7,9))\n",
    "sns.heatmap(air.astype(float).corr(), linewidth=0.25, vmax=1.0, square=True, linecolor='black', annot=True)"
   ]
  },
  {
   "cell_type": "markdown",
   "id": "gyZSxAI9Ffso",
   "metadata": {
    "id": "gyZSxAI9Ffso"
   },
   "source": [
    "**Visualization of Data Distribution**"
   ]
  },
  {
   "cell_type": "code",
   "execution_count": 12,
   "id": "f1056c58",
   "metadata": {
    "colab": {
     "base_uri": "https://localhost:8080/",
     "height": 472
    },
    "id": "f1056c58",
    "outputId": "594a0d7a-fceb-41f6-c6f0-f40600497e19"
   },
   "outputs": [
    {
     "data": {
      "image/png": "[encoded data removed]",
      "text/plain": [
       "<Figure size 640x480 with 1 Axes>"
      ]
     },
     "metadata": {},
     "output_type": "display_data"
    }
   ],
   "source": [
    "plt.scatter(air2['GDP per capita'], air2['Healthy life expectancy'])\n",
    "plt.xlabel('Score')\n",
    "plt.ylabel('Healthy life to expectancy')\n",
    "plt.title('Score & Healthy life to expectancy')\n",
    "plt.show()"
   ]
  },
  {
   "cell_type": "markdown",
   "id": "vdkWpUl5IbZw",
   "metadata": {
    "id": "vdkWpUl5IbZw"
   },
   "source": [
    "**Spliting Dataset**"
   ]
  },
  {
   "cell_type": "code",
   "execution_count": 13,
   "id": "203906cb",
   "metadata": {
    "id": "203906cb"
   },
   "outputs": [],
   "source": [
    "x = air2['GDP per capita'].values.reshape(-1,1)\n",
    "y = air2['Healthy life expectancy'].values.reshape(-1,1)"
   ]
  },
  {
   "cell_type": "code",
   "execution_count": 14,
   "id": "1c56f6d3",
   "metadata": {
    "id": "1c56f6d3"
   },
   "outputs": [],
   "source": [
    "x_train, x_test, y_train, y_test = train_test_split(x, y, test_size=0.4)"
   ]
  },
  {
   "cell_type": "markdown",
   "id": "muRk4b31JYHP",
   "metadata": {
    "id": "muRk4b31JYHP"
   },
   "source": [
    "**Print Split Dataset**"
   ]
  },
  {
   "cell_type": "code",
   "execution_count": 15,
   "id": "oMp5MdXKI9Tg",
   "metadata": {
    "colab": {
     "base_uri": "https://localhost:8080/"
    },
    "id": "oMp5MdXKI9Tg",
    "outputId": "1d0ea3c7-4c8d-469c-9000-2584d29d153a"
   },
   "outputs": [
    {
     "name": "stdout",
     "output_type": "stream",
     "text": [
      "(93, 1)\n",
      "(63, 1)\n",
      "(93, 1)\n",
      "(63, 1)\n"
     ]
    }
   ],
   "source": [
    "print(x_train.shape)\n",
    "print(x_test.shape)\n",
    "print(y_train.shape)\n",
    "print(y_test.shape)"
   ]
  },
  {
   "cell_type": "markdown",
   "id": "ve9342XHJUd9",
   "metadata": {
    "id": "ve9342XHJUd9"
   },
   "source": [
    "**Fitting Model**"
   ]
  },
  {
   "cell_type": "code",
   "execution_count": 16,
   "id": "09259fd9",
   "metadata": {
    "colab": {
     "base_uri": "https://localhost:8080/"
    },
    "id": "09259fd9",
    "outputId": "8d42a83a-5413-4ce1-8bb1-41538f27d37c"
   },
   "outputs": [
    {
     "data": {
      "text/plain": [
       "0.7203258789111553"
      ]
     },
     "execution_count": 16,
     "metadata": {},
     "output_type": "execute_result"
    }
   ],
   "source": [
    "LinReg = LinearRegression()\n",
    "LinReg.fit(x_train, y_train)\n",
    "LinReg.score(x_test, y_test)"
   ]
  },
  {
   "cell_type": "markdown",
   "id": "QEnRAhKhJP0g",
   "metadata": {
    "id": "QEnRAhKhJP0g"
   },
   "source": [
    "**Information Data After Spliting**"
   ]
  },
  {
   "cell_type": "code",
   "execution_count": 17,
   "id": "7a45a836",
   "metadata": {
    "colab": {
     "base_uri": "https://localhost:8080/"
    },
    "id": "7a45a836",
    "outputId": "4f214b2f-37c7-44ec-d29b-4695e9820deb"
   },
   "outputs": [
    {
     "name": "stdout",
     "output_type": "stream",
     "text": [
      "<class 'pandas.core.frame.DataFrame'>\n",
      "RangeIndex: 156 entries, 0 to 155\n",
      "Data columns (total 7 columns):\n",
      " #   Column                        Non-Null Count  Dtype  \n",
      "---  ------                        --------------  -----  \n",
      " 0   Overall rank                  156 non-null    int64  \n",
      " 1   Score                         156 non-null    float64\n",
      " 2   GDP per capita                156 non-null    float64\n",
      " 3   Social support                156 non-null    float64\n",
      " 4   Healthy life expectancy       156 non-null    float64\n",
      " 5   Freedom to make life choices  156 non-null    float64\n",
      " 6   Perceptions of corruption     156 non-null    float64\n",
      "dtypes: float64(6), int64(1)\n",
      "memory usage: 8.7 KB\n"
     ]
    }
   ],
   "source": [
    "air2 = air.copy()\n",
    "air2.info()"
   ]
  },
  {
   "cell_type": "markdown",
   "id": "hsDHgegeJ0wp",
   "metadata": {
    "id": "hsDHgegeJ0wp"
   },
   "source": [
    "**Visualization Linear Regression**"
   ]
  },
  {
   "cell_type": "code",
   "execution_count": 18,
   "id": "4a72b820",
   "metadata": {
    "colab": {
     "base_uri": "https://localhost:8080/",
     "height": 489
    },
    "id": "4a72b820",
    "outputId": "8f43fbf7-54ec-434e-aaac-2a95b954511f"
   },
   "outputs": [
    {
     "data": {
      "text/plain": [
       "Text(0.5, 1.0, 'GDP Per Capita vs Healthy Life Expectancy')"
      ]
     },
     "execution_count": 18,
     "metadata": {},
     "output_type": "execute_result"
    },
    {
     "data": {
      "image/png": "[encoded data removed]",
      "text/plain": [
       "<Figure size 640x480 with 1 Axes>"
      ]
     },
     "metadata": {},
     "output_type": "display_data"
    }
   ],
   "source": [
    "#Linear Regression\n",
    "y_predict = LinReg.predict(x_test)\n",
    "plt.scatter(x_test , y_test)\n",
    "plt.plot(x_test, y_predict, c='r')\n",
    "plt.xlabel('GDP Per Capita')\n",
    "plt.ylabel('Healthy Life Expectancy')\n",
    "plt.title('GDP Per Capita vs Healthy Life Expectancy')"
   ]
  },
  {
   "cell_type": "markdown",
   "id": "JMqtlyCyKCh-",
   "metadata": {
    "id": "JMqtlyCyKCh-"
   },
   "source": [
    "**Koefisien Determinasi**"
   ]
  },
  {
   "cell_type": "code",
   "execution_count": 19,
   "id": "7cbc8d90",
   "metadata": {
    "colab": {
     "base_uri": "https://localhost:8080/"
    },
    "id": "7cbc8d90",
    "outputId": "33ba728f-f482-469e-f9cd-d0a64e823c52"
   },
   "outputs": [
    {
     "name": "stdout",
     "output_type": "stream",
     "text": [
      "R2 Score:  0.7203258789111553\n"
     ]
    }
   ],
   "source": [
    "#Mengukur Kecocokan Model\n",
    "r2 = r2_score(y_test, y_predict)\n",
    "print ('R2 Score: ', r2)"
   ]
  },
  {
   "cell_type": "markdown",
   "id": "y6wQVK_TKJBv",
   "metadata": {
    "id": "y6wQVK_TKJBv"
   },
   "source": [
    "**Mean Absolute Error (MAE)**"
   ]
  },
  {
   "cell_type": "code",
   "execution_count": 20,
   "id": "kLYaGZFo4XOW",
   "metadata": {
    "colab": {
     "base_uri": "https://localhost:8080/"
    },
    "id": "kLYaGZFo4XOW",
    "outputId": "a6c63572-b3ec-4f21-a01e-402ce74ab9b2"
   },
   "outputs": [
    {
     "name": "stdout",
     "output_type": "stream",
     "text": [
      "Mean Absolute Error (MAE): 0.10990893394768018\n"
     ]
    }
   ],
   "source": [
    "mae = mean_absolute_error(y_test, y_predict)\n",
    "print(\"Mean Absolute Error (MAE):\", mae)"
   ]
  },
  {
   "cell_type": "markdown",
   "id": "-PoU8m_8Fa9T",
   "metadata": {
    "id": "-PoU8m_8Fa9T"
   },
   "source": [
    "**Simple Recurrent Neural Network (RNN)**"
   ]
  },
  {
   "cell_type": "code",
   "execution_count": 21,
   "id": "aTt71LWUzDUL",
   "metadata": {
    "colab": {
     "base_uri": "https://localhost:8080/",
     "height": 322
    },
    "id": "aTt71LWUzDUL",
    "outputId": "e5888b0f-82ba-49e5-b492-80d7053b9094"
   },
   "outputs": [
    {
     "data": {
      "text/html": [
       "<div>\n",
       "<style scoped>\n",
       "    .dataframe tbody tr th:only-of-type {\n",
       "        vertical-align: middle;\n",
       "    }\n",
       "\n",
       "    .dataframe tbody tr th {\n",
       "        vertical-align: top;\n",
       "    }\n",
       "\n",
       "    .dataframe thead th {\n",
       "        text-align: right;\n",
       "    }\n",
       "</style>\n",
       "<table border=\"1\" class=\"dataframe\">\n",
       "  <thead>\n",
       "    <tr style=\"text-align: right;\">\n",
       "      <th></th>\n",
       "      <th>Overall rank</th>\n",
       "      <th>Country or region</th>\n",
       "      <th>Score</th>\n",
       "      <th>GDP per capita</th>\n",
       "      <th>Social support</th>\n",
       "      <th>Healthy life expectancy</th>\n",
       "      <th>Freedom to make life choices</th>\n",
       "      <th>Generosity</th>\n",
       "      <th>Perceptions of corruption</th>\n",
       "    </tr>\n",
       "  </thead>\n",
       "  <tbody>\n",
       "    <tr>\n",
       "      <th>0</th>\n",
       "      <td>1</td>\n",
       "      <td>Finland</td>\n",
       "      <td>7.769</td>\n",
       "      <td>1.340</td>\n",
       "      <td>1.587</td>\n",
       "      <td>0.986</td>\n",
       "      <td>0.596</td>\n",
       "      <td>0.153</td>\n",
       "      <td>0.393</td>\n",
       "    </tr>\n",
       "    <tr>\n",
       "      <th>1</th>\n",
       "      <td>2</td>\n",
       "      <td>Denmark</td>\n",
       "      <td>7.600</td>\n",
       "      <td>1.383</td>\n",
       "      <td>1.573</td>\n",
       "      <td>0.996</td>\n",
       "      <td>0.592</td>\n",
       "      <td>0.252</td>\n",
       "      <td>0.410</td>\n",
       "    </tr>\n",
       "    <tr>\n",
       "      <th>2</th>\n",
       "      <td>3</td>\n",
       "      <td>Norway</td>\n",
       "      <td>7.554</td>\n",
       "      <td>1.488</td>\n",
       "      <td>1.582</td>\n",
       "      <td>1.028</td>\n",
       "      <td>0.603</td>\n",
       "      <td>0.271</td>\n",
       "      <td>0.341</td>\n",
       "    </tr>\n",
       "    <tr>\n",
       "      <th>3</th>\n",
       "      <td>4</td>\n",
       "      <td>Iceland</td>\n",
       "      <td>7.494</td>\n",
       "      <td>1.380</td>\n",
       "      <td>1.624</td>\n",
       "      <td>1.026</td>\n",
       "      <td>0.591</td>\n",
       "      <td>0.354</td>\n",
       "      <td>0.118</td>\n",
       "    </tr>\n",
       "    <tr>\n",
       "      <th>4</th>\n",
       "      <td>5</td>\n",
       "      <td>Netherlands</td>\n",
       "      <td>7.488</td>\n",
       "      <td>1.396</td>\n",
       "      <td>1.522</td>\n",
       "      <td>0.999</td>\n",
       "      <td>0.557</td>\n",
       "      <td>0.322</td>\n",
       "      <td>0.298</td>\n",
       "    </tr>\n",
       "  </tbody>\n",
       "</table>\n",
       "</div>"
      ],
      "text/plain": [
       "   Overall rank Country or region  Score  GDP per capita  Social support  \\\n",
       "0             1           Finland  7.769           1.340           1.587   \n",
       "1             2           Denmark  7.600           1.383           1.573   \n",
       "2             3            Norway  7.554           1.488           1.582   \n",
       "3             4           Iceland  7.494           1.380           1.624   \n",
       "4             5       Netherlands  7.488           1.396           1.522   \n",
       "\n",
       "   Healthy life expectancy  Freedom to make life choices  Generosity  \\\n",
       "0                    0.986                         0.596       0.153   \n",
       "1                    0.996                         0.592       0.252   \n",
       "2                    1.028                         0.603       0.271   \n",
       "3                    1.026                         0.591       0.354   \n",
       "4                    0.999                         0.557       0.322   \n",
       "\n",
       "   Perceptions of corruption  \n",
       "0                      0.393  \n",
       "1                      0.410  \n",
       "2                      0.341  \n",
       "3                      0.118  \n",
       "4                      0.298  "
      ]
     },
     "execution_count": 21,
     "metadata": {},
     "output_type": "execute_result"
    }
   ],
   "source": [
    "#Read Dataset\n",
    "air = pd.read_csv('2019.csv')\n",
    "air.head()"
   ]
  },
  {
   "cell_type": "code",
   "execution_count": 22,
   "id": "O7CL1pCIdwfD",
   "metadata": {
    "id": "O7CL1pCIdwfD"
   },
   "outputs": [],
   "source": [
    "air = air.drop(['Generosity'],axis=1)"
   ]
  },
  {
   "cell_type": "markdown",
   "id": "BP64Am9KKeeg",
   "metadata": {
    "id": "BP64Am9KKeeg"
   },
   "source": [
    "**Information Dataset After Drop Variabel That Not Using**"
   ]
  },
  {
   "cell_type": "code",
   "execution_count": 23,
   "id": "CNyJSH6czUgQ",
   "metadata": {
    "colab": {
     "base_uri": "https://localhost:8080/"
    },
    "id": "CNyJSH6czUgQ",
    "outputId": "aa924aa6-825b-437b-d6ef-d609920b9c36"
   },
   "outputs": [
    {
     "name": "stdout",
     "output_type": "stream",
     "text": [
      "<class 'pandas.core.frame.DataFrame'>\n",
      "RangeIndex: 156 entries, 0 to 155\n",
      "Data columns (total 8 columns):\n",
      " #   Column                        Non-Null Count  Dtype  \n",
      "---  ------                        --------------  -----  \n",
      " 0   Overall rank                  156 non-null    int64  \n",
      " 1   Country or region             156 non-null    object \n",
      " 2   Score                         156 non-null    float64\n",
      " 3   GDP per capita                156 non-null    float64\n",
      " 4   Social support                156 non-null    float64\n",
      " 5   Healthy life expectancy       156 non-null    float64\n",
      " 6   Freedom to make life choices  156 non-null    float64\n",
      " 7   Perceptions of corruption     156 non-null    float64\n",
      "dtypes: float64(6), int64(1), object(1)\n",
      "memory usage: 9.9+ KB\n"
     ]
    }
   ],
   "source": [
    "#Check Dataset\n",
    "air.info()"
   ]
  },
  {
   "cell_type": "markdown",
   "id": "0cqaq6t4Knb2",
   "metadata": {
    "id": "0cqaq6t4Knb2"
   },
   "source": [
    "**Drop Null on Data**"
   ]
  },
  {
   "cell_type": "code",
   "execution_count": 24,
   "id": "OTkle87Ow4RX",
   "metadata": {
    "colab": {
     "base_uri": "https://localhost:8080/"
    },
    "id": "OTkle87Ow4RX",
    "outputId": "d06c8263-497a-41e8-ac40-a9ff5addfeed"
   },
   "outputs": [
    {
     "data": {
      "text/plain": [
       "(156, 8)"
      ]
     },
     "execution_count": 24,
     "metadata": {},
     "output_type": "execute_result"
    }
   ],
   "source": [
    "#Check Null\n",
    "air = air.dropna()\n",
    "air.shape"
   ]
  },
  {
   "cell_type": "code",
   "execution_count": 25,
   "id": "8UyBuFWFxSh4",
   "metadata": {
    "id": "8UyBuFWFxSh4"
   },
   "outputs": [],
   "source": [
    "#check Different labels for Sentiment\n",
    "Mood = air.value_counts()"
   ]
  },
  {
   "cell_type": "markdown",
   "id": "EVw91TYqRv3j",
   "metadata": {
    "id": "EVw91TYqRv3j"
   },
   "source": [
    "**Transform Tweet Data into List and Tokenize**"
   ]
  },
  {
   "cell_type": "code",
   "execution_count": 26,
   "id": "JZK8tLPWRzvx",
   "metadata": {
    "colab": {
     "base_uri": "https://localhost:8080/"
    },
    "id": "JZK8tLPWRzvx",
    "outputId": "3b0641d2-da8b-43c3-e46e-5069eb94ebc9"
   },
   "outputs": [
    {
     "name": "stdout",
     "output_type": "stream",
     "text": [
      "['Finland', 'Denmark', 'Norway', 'Iceland', 'Netherlands', 'Switzerland', 'Sweden', 'New Zealand', 'Canada', 'Austria']\n",
      "{1: 'united', 2: 'republic', 3: 'south', 4: 'cyprus', 5: 'congo', 6: 'finland', 7: 'denmark', 8: 'norway', 9: 'iceland', 10: 'netherlands', 11: 'switzerland', 12: 'sweden', 13: 'new', 14: 'zealand', 15: 'canada', 16: 'austria', 17: 'australia', 18: 'costa', 19: 'rica', 20: 'israel', 21: 'luxembourg', 22: 'kingdom', 23: 'ireland', 24: 'germany', 25: 'belgium', 26: 'states', 27: 'czech', 28: 'arab', 29: 'emirates', 30: 'malta', 31: 'mexico', 32: 'france', 33: 'taiwan', 34: 'chile', 35: 'guatemala', 36: 'saudi', 37: 'arabia', 38: 'qatar', 39: 'spain', 40: 'panama', 41: 'brazil', 42: 'uruguay', 43: 'singapore', 44: 'el', 45: 'salvador', 46: 'italy', 47: 'bahrain', 48: 'slovakia', 49: 'trinidad', 50: 'tobago', 51: 'poland', 52: 'uzbekistan', 53: 'lithuania', 54: 'colombia', 55: 'slovenia', 56: 'nicaragua', 57: 'kosovo', 58: 'argentina', 59: 'romania', 60: 'ecuador', 61: 'kuwait', 62: 'thailand', 63: 'latvia', 64: 'korea', 65: 'estonia', 66: 'jamaica', 67: 'mauritius', 68: 'japan', 69: 'honduras', 70: 'kazakhstan', 71: 'bolivia', 72: 'hungary', 73: 'paraguay', 74: 'northern', 75: 'peru', 76: 'portugal', 77: 'pakistan', 78: 'russia', 79: 'philippines', 80: 'serbia', 81: 'moldova', 82: 'libya', 83: 'montenegro', 84: 'tajikistan', 85: 'croatia', 86: 'hong', 87: 'kong', 88: 'dominican', 89: 'bosnia', 90: 'and', 91: 'herzegovina', 92: 'turkey', 93: 'malaysia', 94: 'belarus', 95: 'greece', 96: 'mongolia', 97: 'north', 98: 'macedonia', 99: 'nigeria', 100: 'kyrgyzstan', 101: 'turkmenistan', 102: 'algeria', 103: 'morocco', 104: 'azerbaijan', 105: 'lebanon', 106: 'indonesia', 107: 'china', 108: 'vietnam', 109: 'bhutan', 110: 'cameroon', 111: 'bulgaria', 112: 'ghana', 113: 'ivory', 114: 'coast', 115: 'nepal', 116: 'jordan', 117: 'benin', 118: 'brazzaville', 119: 'gabon', 120: 'laos', 121: 'africa', 122: 'albania', 123: 'venezuela', 124: 'cambodia', 125: 'palestinian', 126: 'territories', 127: 'senegal', 128: 'somalia', 129: 'namibia', 130: 'niger', 131: 'burkina', 132: 'faso', 133: 'armenia', 134: 'iran', 135: 'guinea', 136: 'georgia', 137: 'gambia', 138: 'kenya', 139: 'mauritania', 140: 'mozambique', 141: 'tunisia', 142: 'bangladesh', 143: 'iraq', 144: 'kinshasa', 145: 'mali', 146: 'sierra', 147: 'leone', 148: 'sri', 149: 'lanka', 150: 'myanmar', 151: 'chad', 152: 'ukraine', 153: 'ethiopia', 154: 'swaziland', 155: 'uganda', 156: 'egypt', 157: 'zambia', 158: 'togo', 159: 'india', 160: 'liberia', 161: 'comoros', 162: 'madagascar', 163: 'lesotho', 164: 'burundi', 165: 'zimbabwe', 166: 'haiti', 167: 'botswana', 168: 'syria', 169: 'malawi', 170: 'yemen', 171: 'rwanda', 172: 'tanzania', 173: 'afghanistan', 174: 'central', 175: 'african', 176: 'sudan'}\n"
     ]
    }
   ],
   "source": [
    "#Transform to List\n",
    "text = air[\"Country or region\"].tolist()\n",
    "print(text[:10])\n",
    "\n",
    "#Tokenize\n",
    "token = Tokenizer()\n",
    "token.fit_on_texts(text)\n",
    "print(token.index_word)"
   ]
  },
  {
   "cell_type": "markdown",
   "id": "8PKZtfImLBLt",
   "metadata": {
    "id": "8PKZtfImLBLt"
   },
   "source": [
    "**Print Result Tokenize**"
   ]
  },
  {
   "cell_type": "code",
   "execution_count": 27,
   "id": "Y1tR-Aweu0-m",
   "metadata": {
    "colab": {
     "base_uri": "https://localhost:8080/"
    },
    "id": "Y1tR-Aweu0-m",
    "outputId": "11a6484b-4620-41d3-a7e5-36566cdc9068"
   },
   "outputs": [
    {
     "name": "stdout",
     "output_type": "stream",
     "text": [
      "[[0 0 0 ... 0 0 0]\n",
      " [0 0 0 ... 0 0 0]\n",
      " [0 0 0 ... 0 0 0]\n",
      " ...\n",
      " [0 0 0 ... 0 0 0]\n",
      " [0 0 0 ... 0 0 0]\n",
      " [0 0 0 ... 0 0 0]]\n",
      "\n",
      "Index Count: 177\n"
     ]
    }
   ],
   "source": [
    "#Print Encoded Text\n",
    "encode_text = token.texts_to_sequences(air)\n",
    "\n",
    "#define max word and padding\n",
    "max_word = 160\n",
    "X = pad_sequences(encode_text, maxlen = max_word, padding = \"post\")\n",
    "print(X)\n",
    "\n",
    "#check how many vocab used\n",
    "n = len(token.index_word)+1\n",
    "print(\"\\nIndex Count:\", n)"
   ]
  },
  {
   "cell_type": "markdown",
   "id": "FRe76xAJU1LQ",
   "metadata": {
    "id": "FRe76xAJU1LQ"
   },
   "source": [
    "**Define The Variabel**"
   ]
  },
  {
   "cell_type": "code",
   "execution_count": 28,
   "id": "YP2pm3aDxsJk",
   "metadata": {
    "id": "YP2pm3aDxsJk"
   },
   "outputs": [],
   "source": [
    "df = air[\"Healthy life expectancy\"]"
   ]
  },
  {
   "cell_type": "markdown",
   "id": "DtrugxbBV_hW",
   "metadata": {
    "id": "DtrugxbBV_hW"
   },
   "source": [
    "**Spliting Dataset**"
   ]
  },
  {
   "cell_type": "code",
   "execution_count": 29,
   "id": "k94Hcbgbx4l2",
   "metadata": {
    "id": "k94Hcbgbx4l2"
   },
   "outputs": [],
   "source": [
    "x_train, x_test, y_train, y_test = train_test_split(x, y, random_state = 999, test_size = 0.4)"
   ]
  },
  {
   "cell_type": "code",
   "execution_count": 30,
   "id": "cTBhM5102EsV",
   "metadata": {
    "id": "cTBhM5102EsV"
   },
   "outputs": [],
   "source": [
    "x_train = np.asarray(x_train)\n",
    "x_test = np.asarray(x_test)\n",
    "y_train = np.asarray(y_train)\n",
    "y_test = np.asarray(y_test)"
   ]
  },
  {
   "cell_type": "code",
   "execution_count": 31,
   "id": "lRruqb7scDRx",
   "metadata": {
    "colab": {
     "base_uri": "https://localhost:8080/"
    },
    "id": "lRruqb7scDRx",
    "outputId": "1f6dfc4d-497a-4b5b-879d-684b9586b013"
   },
   "outputs": [
    {
     "name": "stdout",
     "output_type": "stream",
     "text": [
      "(93, 1)\n",
      "(63, 1)\n",
      "(93, 1)\n",
      "(63, 1)\n"
     ]
    }
   ],
   "source": [
    "y_train = np.asarray(y_train).astype('float32').reshape((-1,1))\n",
    "y_test = np.asarray(y_test).astype('float32').reshape((-1,1))\n",
    "print(x_train.shape)\n",
    "print(x_test.shape)\n",
    "print(y_train.shape)\n",
    "print(y_test.shape)"
   ]
  },
  {
   "cell_type": "markdown",
   "id": "qB_iWZNqYher",
   "metadata": {
    "id": "qB_iWZNqYher"
   },
   "source": [
    "**Change Label to Represesntation One-Hot Encoding**"
   ]
  },
  {
   "cell_type": "code",
   "execution_count": 32,
   "id": "UZuIT-WPXIrf",
   "metadata": {
    "id": "UZuIT-WPXIrf"
   },
   "outputs": [],
   "source": [
    "#Representation Biner\n",
    "y_train = to_categorical(y_train, 3)\n",
    "y_test = to_categorical(y_test, 3)"
   ]
  },
  {
   "cell_type": "markdown",
   "id": "T70RS3ckWDe3",
   "metadata": {
    "id": "T70RS3ckWDe3"
   },
   "source": [
    "**Modelling Recurrent Neural Network (RNN)**"
   ]
  },
  {
   "cell_type": "code",
   "execution_count": 33,
   "id": "OkVTZ4Qn2yb6",
   "metadata": {
    "colab": {
     "base_uri": "https://localhost:8080/"
    },
    "id": "OkVTZ4Qn2yb6",
    "outputId": "db113227-f355-4102-9d4a-c27a0adbe23d",
    "scrolled": true
   },
   "outputs": [
    {
     "name": "stdout",
     "output_type": "stream",
     "text": [
      "Model: \"sequential\"\n",
      "_________________________________________________________________\n",
      " Layer (type)                Output Shape              Param #   \n",
      "=================================================================\n",
      " embedding (Embedding)       (None, 160, 9999)         1769823   \n",
      "                                                                 \n",
      " simple_rnn (SimpleRNN)      (None, 64)                644096    \n",
      "                                                                 \n",
      " dense (Dense)               (None, 32)                2080      \n",
      "                                                                 \n",
      " dropout (Dropout)           (None, 32)                0         \n",
      "                                                                 \n",
      " dense_1 (Dense)             (None, 64)                2112      \n",
      "                                                                 \n",
      " dense_2 (Dense)             (None, 32)                2080      \n",
      "                                                                 \n",
      " dropout_1 (Dropout)         (None, 32)                0         \n",
      "                                                                 \n",
      " dense_3 (Dense)             (None, 16)                528       \n",
      "                                                                 \n",
      " dense_4 (Dense)             (None, 3)                 51        \n",
      "                                                                 \n",
      "=================================================================\n",
      "Total params: 2,420,770\n",
      "Trainable params: 2,420,770\n",
      "Non-trainable params: 0\n",
      "_________________________________________________________________\n"
     ]
    }
   ],
   "source": [
    "#Train Dataset Using Model RNN\n",
    "emb_vec_len = 100\n",
    "vec_size = 9999\n",
    "model = Sequential()\n",
    "model.add(Embedding(n, vec_size, input_length=max_word))\n",
    "model.add(SimpleRNN(units=64, activation='relu'))\n",
    "model.add(Dense(units=32, activation='softmax'))\n",
    "model.add(Dropout(0.5))\n",
    "model.add(Dense(64, activation='relu'))\n",
    "model.add(Dense(32, activation='relu'))\n",
    "model.add(Dropout(0.5))\n",
    "model.add(Dense(16, activation='relu'))\n",
    "model.add(Dense(3, activation='softmax'))\n",
    "model.summary()"
   ]
  },
  {
   "cell_type": "markdown",
   "id": "Yubq7CCyWdC3",
   "metadata": {
    "id": "Yubq7CCyWdC3"
   },
   "source": [
    "**Fitting Dataset**"
   ]
  },
  {
   "cell_type": "code",
   "execution_count": 34,
   "id": "KwUitj8A3Baz",
   "metadata": {
    "id": "KwUitj8A3Baz"
   },
   "outputs": [],
   "source": [
    "#Test Dataset\n",
    "model.compile(optimizer='adam', loss='categorical_crossentropy', metrics=['accuracy'])"
   ]
  },
  {
   "cell_type": "markdown",
   "id": "SOrQR6xEZ112",
   "metadata": {
    "id": "SOrQR6xEZ112"
   },
   "source": [
    "**Testing Dataset**"
   ]
  },
  {
   "cell_type": "code",
   "execution_count": 35,
   "id": "YXfZhjAt3L4h",
   "metadata": {
    "colab": {
     "base_uri": "https://localhost:8080/"
    },
    "id": "YXfZhjAt3L4h",
    "outputId": "dd6542a6-fedc-415c-9add-2e161132650e"
   },
   "outputs": [
    {
     "name": "stdout",
     "output_type": "stream",
     "text": [
      "Epoch 1/50\n",
      "3/3 [==============================] - 6s 319ms/step - loss: 1.1050 - accuracy: 0.1290 - val_loss: 1.0893 - val_accuracy: 0.6667\n",
      "Epoch 2/50\n",
      "3/3 [==============================] - 0s 64ms/step - loss: 1.0920 - accuracy: 0.3118 - val_loss: 1.0824 - val_accuracy: 0.8730\n",
      "Epoch 3/50\n",
      "3/3 [==============================] - 0s 63ms/step - loss: 1.0800 - accuracy: 0.6237 - val_loss: 1.0739 - val_accuracy: 0.8730\n",
      "Epoch 4/50\n",
      "3/3 [==============================] - 0s 63ms/step - loss: 1.0689 - accuracy: 0.7419 - val_loss: 1.0630 - val_accuracy: 0.8730\n",
      "Epoch 5/50\n",
      "3/3 [==============================] - 0s 53ms/step - loss: 1.0591 - accuracy: 0.7527 - val_loss: 1.0477 - val_accuracy: 0.8730\n",
      "Epoch 6/50\n",
      "3/3 [==============================] - 0s 59ms/step - loss: 1.0440 - accuracy: 0.7097 - val_loss: 1.0305 - val_accuracy: 0.8730\n",
      "Epoch 7/50\n",
      "3/3 [==============================] - 0s 66ms/step - loss: 1.0242 - accuracy: 0.7742 - val_loss: 1.0089 - val_accuracy: 0.8730\n",
      "Epoch 8/50\n",
      "3/3 [==============================] - 0s 138ms/step - loss: 1.0057 - accuracy: 0.7312 - val_loss: 0.9812 - val_accuracy: 0.8730\n",
      "Epoch 9/50\n",
      "3/3 [==============================] - 0s 133ms/step - loss: 0.9756 - accuracy: 0.8172 - val_loss: 0.9489 - val_accuracy: 0.8730\n",
      "Epoch 10/50\n",
      "3/3 [==============================] - 1s 508ms/step - loss: 0.9508 - accuracy: 0.8495 - val_loss: 0.9202 - val_accuracy: 0.8730\n",
      "Epoch 11/50\n",
      "3/3 [==============================] - 0s 192ms/step - loss: 0.9077 - accuracy: 0.7634 - val_loss: 0.8873 - val_accuracy: 0.8730\n",
      "Epoch 12/50\n",
      "3/3 [==============================] - 1s 280ms/step - loss: 0.8926 - accuracy: 0.8172 - val_loss: 0.8520 - val_accuracy: 0.8730\n",
      "Epoch 13/50\n",
      "3/3 [==============================] - 0s 198ms/step - loss: 0.8540 - accuracy: 0.8495 - val_loss: 0.8131 - val_accuracy: 0.8730\n",
      "Epoch 14/50\n",
      "3/3 [==============================] - 0s 200ms/step - loss: 0.8034 - accuracy: 0.8710 - val_loss: 0.7744 - val_accuracy: 0.8730\n",
      "Epoch 15/50\n",
      "3/3 [==============================] - 0s 150ms/step - loss: 0.7701 - accuracy: 0.8710 - val_loss: 0.7340 - val_accuracy: 0.8730\n",
      "Epoch 16/50\n",
      "3/3 [==============================] - 0s 101ms/step - loss: 0.7424 - accuracy: 0.8817 - val_loss: 0.6920 - val_accuracy: 0.8730\n",
      "Epoch 17/50\n",
      "3/3 [==============================] - 0s 117ms/step - loss: 0.7086 - accuracy: 0.8817 - val_loss: 0.6490 - val_accuracy: 0.8730\n",
      "Epoch 18/50\n",
      "3/3 [==============================] - 0s 101ms/step - loss: 0.6770 - accuracy: 0.8817 - val_loss: 0.6077 - val_accuracy: 0.8730\n",
      "Epoch 19/50\n",
      "3/3 [==============================] - 0s 119ms/step - loss: 0.6294 - accuracy: 0.8817 - val_loss: 0.5687 - val_accuracy: 0.8730\n",
      "Epoch 20/50\n",
      "3/3 [==============================] - 0s 114ms/step - loss: 0.6242 - accuracy: 0.8817 - val_loss: 0.5357 - val_accuracy: 0.8730\n",
      "Epoch 21/50\n",
      "3/3 [==============================] - 0s 60ms/step - loss: 0.6214 - accuracy: 0.8817 - val_loss: 0.5064 - val_accuracy: 0.8730\n",
      "Epoch 22/50\n",
      "3/3 [==============================] - 0s 67ms/step - loss: 0.5249 - accuracy: 0.8817 - val_loss: 0.4814 - val_accuracy: 0.8730\n",
      "Epoch 23/50\n",
      "3/3 [==============================] - 0s 65ms/step - loss: 0.5349 - accuracy: 0.8817 - val_loss: 0.4600 - val_accuracy: 0.8730\n",
      "Epoch 24/50\n",
      "3/3 [==============================] - 0s 70ms/step - loss: 0.4929 - accuracy: 0.8817 - val_loss: 0.4389 - val_accuracy: 0.8730\n",
      "Epoch 25/50\n",
      "3/3 [==============================] - 0s 62ms/step - loss: 0.4692 - accuracy: 0.8817 - val_loss: 0.4245 - val_accuracy: 0.8730\n",
      "Epoch 26/50\n",
      "3/3 [==============================] - 0s 66ms/step - loss: 0.4496 - accuracy: 0.8817 - val_loss: 0.4127 - val_accuracy: 0.8730\n",
      "Epoch 27/50\n",
      "3/3 [==============================] - 0s 57ms/step - loss: 0.4597 - accuracy: 0.8817 - val_loss: 0.4021 - val_accuracy: 0.8730\n",
      "Epoch 28/50\n",
      "3/3 [==============================] - 0s 56ms/step - loss: 0.4507 - accuracy: 0.8817 - val_loss: 0.3935 - val_accuracy: 0.8730\n",
      "Epoch 29/50\n",
      "3/3 [==============================] - 0s 54ms/step - loss: 0.4426 - accuracy: 0.8817 - val_loss: 0.3848 - val_accuracy: 0.8730\n",
      "Epoch 30/50\n",
      "3/3 [==============================] - 0s 56ms/step - loss: 0.4126 - accuracy: 0.8817 - val_loss: 0.3777 - val_accuracy: 0.8730\n",
      "Epoch 31/50\n",
      "3/3 [==============================] - 0s 54ms/step - loss: 0.4019 - accuracy: 0.8817 - val_loss: 0.3710 - val_accuracy: 0.8730\n",
      "Epoch 32/50\n",
      "3/3 [==============================] - 0s 55ms/step - loss: 0.3923 - accuracy: 0.8817 - val_loss: 0.3675 - val_accuracy: 0.8730\n",
      "Epoch 33/50\n",
      "3/3 [==============================] - 0s 57ms/step - loss: 0.4277 - accuracy: 0.8817 - val_loss: 0.3637 - val_accuracy: 0.8730\n",
      "Epoch 34/50\n",
      "3/3 [==============================] - 0s 95ms/step - loss: 0.3963 - accuracy: 0.8817 - val_loss: 0.3599 - val_accuracy: 0.8730\n",
      "Epoch 35/50\n",
      "3/3 [==============================] - 0s 100ms/step - loss: 0.3626 - accuracy: 0.8817 - val_loss: 0.3568 - val_accuracy: 0.8730\n",
      "Epoch 36/50\n",
      "3/3 [==============================] - 0s 102ms/step - loss: 0.4085 - accuracy: 0.8817 - val_loss: 0.3543 - val_accuracy: 0.8730\n",
      "Epoch 37/50\n",
      "3/3 [==============================] - 0s 103ms/step - loss: 0.4169 - accuracy: 0.8817 - val_loss: 0.3519 - val_accuracy: 0.8730\n",
      "Epoch 38/50\n",
      "3/3 [==============================] - 0s 97ms/step - loss: 0.3882 - accuracy: 0.8817 - val_loss: 0.3489 - val_accuracy: 0.8730\n",
      "Epoch 39/50\n",
      "3/3 [==============================] - 0s 119ms/step - loss: 0.3866 - accuracy: 0.8817 - val_loss: 0.3463 - val_accuracy: 0.8730\n",
      "Epoch 40/50\n",
      "3/3 [==============================] - 0s 104ms/step - loss: 0.3963 - accuracy: 0.8817 - val_loss: 0.3438 - val_accuracy: 0.8730\n",
      "Epoch 41/50\n",
      "3/3 [==============================] - 0s 100ms/step - loss: 0.3939 - accuracy: 0.8817 - val_loss: 0.3418 - val_accuracy: 0.8730\n",
      "Epoch 42/50\n",
      "3/3 [==============================] - 0s 101ms/step - loss: 0.3823 - accuracy: 0.8817 - val_loss: 0.3387 - val_accuracy: 0.8730\n",
      "Epoch 43/50\n",
      "3/3 [==============================] - 0s 101ms/step - loss: 0.3468 - accuracy: 0.8817 - val_loss: 0.3371 - val_accuracy: 0.8730\n",
      "Epoch 44/50\n",
      "3/3 [==============================] - 0s 94ms/step - loss: 0.3748 - accuracy: 0.8817 - val_loss: 0.3339 - val_accuracy: 0.8730\n",
      "Epoch 45/50\n",
      "3/3 [==============================] - 0s 94ms/step - loss: 0.3724 - accuracy: 0.8817 - val_loss: 0.3298 - val_accuracy: 0.8730\n",
      "Epoch 46/50\n",
      "3/3 [==============================] - 0s 89ms/step - loss: 0.3556 - accuracy: 0.8817 - val_loss: 0.3267 - val_accuracy: 0.8730\n",
      "Epoch 47/50\n",
      "3/3 [==============================] - 0s 77ms/step - loss: 0.3486 - accuracy: 0.8817 - val_loss: 0.3244 - val_accuracy: 0.8730\n",
      "Epoch 48/50\n",
      "3/3 [==============================] - 0s 73ms/step - loss: 0.3360 - accuracy: 0.8817 - val_loss: 0.3230 - val_accuracy: 0.8730\n",
      "Epoch 49/50\n",
      "3/3 [==============================] - 0s 78ms/step - loss: 0.3352 - accuracy: 0.8817 - val_loss: 0.3217 - val_accuracy: 0.8730\n",
      "Epoch 50/50\n",
      "3/3 [==============================] - 0s 78ms/step - loss: 0.3483 - accuracy: 0.8817 - val_loss: 0.3201 - val_accuracy: 0.8730\n"
     ]
    },
    {
     "data": {
      "text/plain": [
       "<keras.callbacks.History at 0x20baab58f10>"
      ]
     },
     "execution_count": 35,
     "metadata": {},
     "output_type": "execute_result"
    }
   ],
   "source": [
    "#Test Dataset using model.fit\n",
    "model.fit(x_train, y_train, batch_size=32, validation_split=0.2, epochs=50, validation_data=(x_test, y_test))"
   ]
  },
  {
   "cell_type": "markdown",
   "id": "1RiwnoAlf0f9",
   "metadata": {
    "id": "1RiwnoAlf0f9"
   },
   "source": [
    "**Summary The Model**"
   ]
  },
  {
   "cell_type": "code",
   "execution_count": 36,
   "id": "tSKYseL9fvVc",
   "metadata": {
    "colab": {
     "base_uri": "https://localhost:8080/"
    },
    "id": "tSKYseL9fvVc",
    "outputId": "30708f00-386c-4138-d88e-e3514f9ebc15",
    "scrolled": true
   },
   "outputs": [
    {
     "name": "stdout",
     "output_type": "stream",
     "text": [
      "Model: \"sequential\"\n",
      "_________________________________________________________________\n",
      " Layer (type)                Output Shape              Param #   \n",
      "=================================================================\n",
      " embedding (Embedding)       (None, 160, 9999)         1769823   \n",
      "                                                                 \n",
      " simple_rnn (SimpleRNN)      (None, 64)                644096    \n",
      "                                                                 \n",
      " dense (Dense)               (None, 32)                2080      \n",
      "                                                                 \n",
      " dropout (Dropout)           (None, 32)                0         \n",
      "                                                                 \n",
      " dense_1 (Dense)             (None, 64)                2112      \n",
      "                                                                 \n",
      " dense_2 (Dense)             (None, 32)                2080      \n",
      "                                                                 \n",
      " dropout_1 (Dropout)         (None, 32)                0         \n",
      "                                                                 \n",
      " dense_3 (Dense)             (None, 16)                528       \n",
      "                                                                 \n",
      " dense_4 (Dense)             (None, 3)                 51        \n",
      "                                                                 \n",
      "=================================================================\n",
      "Total params: 2,420,770\n",
      "Trainable params: 2,420,770\n",
      "Non-trainable params: 0\n",
      "_________________________________________________________________\n"
     ]
    }
   ],
   "source": [
    "model.summary()"
   ]
  },
  {
   "cell_type": "markdown",
   "id": "qYH67SI0fgVH",
   "metadata": {
    "id": "qYH67SI0fgVH"
   },
   "source": [
    "**Evaluate Model**"
   ]
  },
  {
   "cell_type": "code",
   "execution_count": 37,
   "id": "8LWauHK73L7s",
   "metadata": {
    "colab": {
     "base_uri": "https://localhost:8080/"
    },
    "id": "8LWauHK73L7s",
    "outputId": "6986db70-f37c-4b94-966f-bf7b15b4a4e2"
   },
   "outputs": [
    {
     "name": "stdout",
     "output_type": "stream",
     "text": [
      "2/2 [==============================] - 0s 19ms/step - loss: 0.3201 - accuracy: 0.8730\n",
      "Loss: 0.3201170861721039, Accuracy: 0.8730158805847168\n"
     ]
    }
   ],
   "source": [
    "# Melakukan Evaluasi Model\n",
    "loss, accuracy = model.evaluate(x_test, y_test)\n",
    "print(f\"Loss: {loss}, Accuracy: {accuracy}\")"
   ]
  },
  {
   "cell_type": "markdown",
   "id": "67f7aa36",
   "metadata": {},
   "source": [
    "### Deployment"
   ]
  },
  {
   "cell_type": "code",
   "execution_count": 38,
   "id": "184fc5ef",
   "metadata": {
    "scrolled": false
   },
   "outputs": [
    {
     "data": {
      "text/html": [
       "<div>\n",
       "<style scoped>\n",
       "    .dataframe tbody tr th:only-of-type {\n",
       "        vertical-align: middle;\n",
       "    }\n",
       "\n",
       "    .dataframe tbody tr th {\n",
       "        vertical-align: top;\n",
       "    }\n",
       "\n",
       "    .dataframe thead th {\n",
       "        text-align: right;\n",
       "    }\n",
       "</style>\n",
       "<table border=\"1\" class=\"dataframe\">\n",
       "  <thead>\n",
       "    <tr style=\"text-align: right;\">\n",
       "      <th></th>\n",
       "      <th>Overall rank</th>\n",
       "      <th>Score</th>\n",
       "      <th>GDP per capita</th>\n",
       "      <th>Social support</th>\n",
       "      <th>Healthy life expectancy</th>\n",
       "      <th>Freedom to make life choices</th>\n",
       "      <th>Perceptions of corruption</th>\n",
       "    </tr>\n",
       "  </thead>\n",
       "  <tbody>\n",
       "    <tr>\n",
       "      <th>0</th>\n",
       "      <td>1</td>\n",
       "      <td>7.769</td>\n",
       "      <td>1.340</td>\n",
       "      <td>1.587</td>\n",
       "      <td>0.986</td>\n",
       "      <td>0.596</td>\n",
       "      <td>0.393</td>\n",
       "    </tr>\n",
       "    <tr>\n",
       "      <th>1</th>\n",
       "      <td>2</td>\n",
       "      <td>7.600</td>\n",
       "      <td>1.383</td>\n",
       "      <td>1.573</td>\n",
       "      <td>0.996</td>\n",
       "      <td>0.592</td>\n",
       "      <td>0.410</td>\n",
       "    </tr>\n",
       "    <tr>\n",
       "      <th>2</th>\n",
       "      <td>3</td>\n",
       "      <td>7.554</td>\n",
       "      <td>1.488</td>\n",
       "      <td>1.582</td>\n",
       "      <td>1.028</td>\n",
       "      <td>0.603</td>\n",
       "      <td>0.341</td>\n",
       "    </tr>\n",
       "    <tr>\n",
       "      <th>3</th>\n",
       "      <td>4</td>\n",
       "      <td>7.494</td>\n",
       "      <td>1.380</td>\n",
       "      <td>1.624</td>\n",
       "      <td>1.026</td>\n",
       "      <td>0.591</td>\n",
       "      <td>0.118</td>\n",
       "    </tr>\n",
       "    <tr>\n",
       "      <th>4</th>\n",
       "      <td>5</td>\n",
       "      <td>7.488</td>\n",
       "      <td>1.396</td>\n",
       "      <td>1.522</td>\n",
       "      <td>0.999</td>\n",
       "      <td>0.557</td>\n",
       "      <td>0.298</td>\n",
       "    </tr>\n",
       "    <tr>\n",
       "      <th>5</th>\n",
       "      <td>6</td>\n",
       "      <td>7.480</td>\n",
       "      <td>1.452</td>\n",
       "      <td>1.526</td>\n",
       "      <td>1.052</td>\n",
       "      <td>0.572</td>\n",
       "      <td>0.343</td>\n",
       "    </tr>\n",
       "    <tr>\n",
       "      <th>6</th>\n",
       "      <td>7</td>\n",
       "      <td>7.343</td>\n",
       "      <td>1.387</td>\n",
       "      <td>1.487</td>\n",
       "      <td>1.009</td>\n",
       "      <td>0.574</td>\n",
       "      <td>0.373</td>\n",
       "    </tr>\n",
       "    <tr>\n",
       "      <th>7</th>\n",
       "      <td>8</td>\n",
       "      <td>7.307</td>\n",
       "      <td>1.303</td>\n",
       "      <td>1.557</td>\n",
       "      <td>1.026</td>\n",
       "      <td>0.585</td>\n",
       "      <td>0.380</td>\n",
       "    </tr>\n",
       "    <tr>\n",
       "      <th>8</th>\n",
       "      <td>9</td>\n",
       "      <td>7.278</td>\n",
       "      <td>1.365</td>\n",
       "      <td>1.505</td>\n",
       "      <td>1.039</td>\n",
       "      <td>0.584</td>\n",
       "      <td>0.308</td>\n",
       "    </tr>\n",
       "    <tr>\n",
       "      <th>9</th>\n",
       "      <td>10</td>\n",
       "      <td>7.246</td>\n",
       "      <td>1.376</td>\n",
       "      <td>1.475</td>\n",
       "      <td>1.016</td>\n",
       "      <td>0.532</td>\n",
       "      <td>0.226</td>\n",
       "    </tr>\n",
       "  </tbody>\n",
       "</table>\n",
       "</div>"
      ],
      "text/plain": [
       "   Overall rank  Score  GDP per capita  Social support  \\\n",
       "0             1  7.769           1.340           1.587   \n",
       "1             2  7.600           1.383           1.573   \n",
       "2             3  7.554           1.488           1.582   \n",
       "3             4  7.494           1.380           1.624   \n",
       "4             5  7.488           1.396           1.522   \n",
       "5             6  7.480           1.452           1.526   \n",
       "6             7  7.343           1.387           1.487   \n",
       "7             8  7.307           1.303           1.557   \n",
       "8             9  7.278           1.365           1.505   \n",
       "9            10  7.246           1.376           1.475   \n",
       "\n",
       "   Healthy life expectancy  Freedom to make life choices  \\\n",
       "0                    0.986                         0.596   \n",
       "1                    0.996                         0.592   \n",
       "2                    1.028                         0.603   \n",
       "3                    1.026                         0.591   \n",
       "4                    0.999                         0.557   \n",
       "5                    1.052                         0.572   \n",
       "6                    1.009                         0.574   \n",
       "7                    1.026                         0.585   \n",
       "8                    1.039                         0.584   \n",
       "9                    1.016                         0.532   \n",
       "\n",
       "   Perceptions of corruption  \n",
       "0                      0.393  \n",
       "1                      0.410  \n",
       "2                      0.341  \n",
       "3                      0.118  \n",
       "4                      0.298  \n",
       "5                      0.343  \n",
       "6                      0.373  \n",
       "7                      0.380  \n",
       "8                      0.308  \n",
       "9                      0.226  "
      ]
     },
     "execution_count": 38,
     "metadata": {},
     "output_type": "execute_result"
    }
   ],
   "source": [
    "#dataset untuk melakukan deploy \n",
    "air2.head(10)"
   ]
  },
  {
   "cell_type": "code",
   "execution_count": 39,
   "id": "c63f3afe",
   "metadata": {},
   "outputs": [
    {
     "name": "stdout",
     "output_type": "stream",
     "text": [
      "<class 'pandas.core.frame.DataFrame'>\n",
      "RangeIndex: 156 entries, 0 to 155\n",
      "Data columns (total 7 columns):\n",
      " #   Column                        Non-Null Count  Dtype  \n",
      "---  ------                        --------------  -----  \n",
      " 0   Overall rank                  156 non-null    int64  \n",
      " 1   Score                         156 non-null    float64\n",
      " 2   GDP per capita                156 non-null    float64\n",
      " 3   Social support                156 non-null    float64\n",
      " 4   Healthy life expectancy       156 non-null    float64\n",
      " 5   Freedom to make life choices  156 non-null    float64\n",
      " 6   Perceptions of corruption     156 non-null    float64\n",
      "dtypes: float64(6), int64(1)\n",
      "memory usage: 8.7 KB\n"
     ]
    }
   ],
   "source": [
    "air2.info()"
   ]
  },
  {
   "cell_type": "code",
   "execution_count": 40,
   "id": "2849f51f",
   "metadata": {},
   "outputs": [],
   "source": [
    "air2['Score'] = air2['Score'].astype(float).apply(lambda x: str(x).replace('.', ''))\n",
    "air2['GDP per capita'] = air2['GDP per capita'].astype(float).apply(lambda x: str(x).replace('.', ''))\n",
    "air2['Social support'] = air2['Social support'].astype(float).apply(lambda x: str(x).replace('.', ''))\n",
    "air2['Healthy life expectancy'] = air2['Healthy life expectancy'].astype(float).apply(lambda x: str(x).replace('.', ''))\n",
    "air2['Freedom to make life choices'] = air2['Freedom to make life choices'].astype(float).apply(lambda x: str(x).replace('.', ''))\n",
    "air2['Perceptions of corruption'] = air2['Perceptions of corruption'].astype(float).apply(lambda x: str(x).replace('.', ''))"
   ]
  },
  {
   "cell_type": "code",
   "execution_count": 41,
   "id": "4c07359a",
   "metadata": {},
   "outputs": [
    {
     "data": {
      "text/html": [
       "<div>\n",
       "<style scoped>\n",
       "    .dataframe tbody tr th:only-of-type {\n",
       "        vertical-align: middle;\n",
       "    }\n",
       "\n",
       "    .dataframe tbody tr th {\n",
       "        vertical-align: top;\n",
       "    }\n",
       "\n",
       "    .dataframe thead th {\n",
       "        text-align: right;\n",
       "    }\n",
       "</style>\n",
       "<table border=\"1\" class=\"dataframe\">\n",
       "  <thead>\n",
       "    <tr style=\"text-align: right;\">\n",
       "      <th></th>\n",
       "      <th>Overall rank</th>\n",
       "      <th>Score</th>\n",
       "      <th>GDP per capita</th>\n",
       "      <th>Social support</th>\n",
       "      <th>Healthy life expectancy</th>\n",
       "      <th>Freedom to make life choices</th>\n",
       "      <th>Perceptions of corruption</th>\n",
       "    </tr>\n",
       "  </thead>\n",
       "  <tbody>\n",
       "    <tr>\n",
       "      <th>0</th>\n",
       "      <td>1</td>\n",
       "      <td>7769</td>\n",
       "      <td>134</td>\n",
       "      <td>1587</td>\n",
       "      <td>0986</td>\n",
       "      <td>0596</td>\n",
       "      <td>0393</td>\n",
       "    </tr>\n",
       "    <tr>\n",
       "      <th>1</th>\n",
       "      <td>2</td>\n",
       "      <td>76</td>\n",
       "      <td>1383</td>\n",
       "      <td>1573</td>\n",
       "      <td>0996</td>\n",
       "      <td>0592</td>\n",
       "      <td>041</td>\n",
       "    </tr>\n",
       "    <tr>\n",
       "      <th>2</th>\n",
       "      <td>3</td>\n",
       "      <td>7554</td>\n",
       "      <td>1488</td>\n",
       "      <td>1582</td>\n",
       "      <td>1028</td>\n",
       "      <td>0603</td>\n",
       "      <td>0341</td>\n",
       "    </tr>\n",
       "    <tr>\n",
       "      <th>3</th>\n",
       "      <td>4</td>\n",
       "      <td>7494</td>\n",
       "      <td>138</td>\n",
       "      <td>1624</td>\n",
       "      <td>1026</td>\n",
       "      <td>0591</td>\n",
       "      <td>0118</td>\n",
       "    </tr>\n",
       "    <tr>\n",
       "      <th>4</th>\n",
       "      <td>5</td>\n",
       "      <td>7488</td>\n",
       "      <td>1396</td>\n",
       "      <td>1522</td>\n",
       "      <td>0999</td>\n",
       "      <td>0557</td>\n",
       "      <td>0298</td>\n",
       "    </tr>\n",
       "  </tbody>\n",
       "</table>\n",
       "</div>"
      ],
      "text/plain": [
       "   Overall rank Score GDP per capita Social support Healthy life expectancy  \\\n",
       "0             1  7769            134           1587                    0986   \n",
       "1             2    76           1383           1573                    0996   \n",
       "2             3  7554           1488           1582                    1028   \n",
       "3             4  7494            138           1624                    1026   \n",
       "4             5  7488           1396           1522                    0999   \n",
       "\n",
       "  Freedom to make life choices Perceptions of corruption  \n",
       "0                         0596                      0393  \n",
       "1                         0592                       041  \n",
       "2                         0603                      0341  \n",
       "3                         0591                      0118  \n",
       "4                         0557                      0298  "
      ]
     },
     "execution_count": 41,
     "metadata": {},
     "output_type": "execute_result"
    }
   ],
   "source": [
    "air2.head()"
   ]
  },
  {
   "cell_type": "code",
   "execution_count": 42,
   "id": "fc859a90",
   "metadata": {},
   "outputs": [
    {
     "name": "stdout",
     "output_type": "stream",
     "text": [
      "<class 'pandas.core.frame.DataFrame'>\n",
      "RangeIndex: 156 entries, 0 to 155\n",
      "Data columns (total 7 columns):\n",
      " #   Column                        Non-Null Count  Dtype \n",
      "---  ------                        --------------  ----- \n",
      " 0   Overall rank                  156 non-null    int64 \n",
      " 1   Score                         156 non-null    object\n",
      " 2   GDP per capita                156 non-null    object\n",
      " 3   Social support                156 non-null    object\n",
      " 4   Healthy life expectancy       156 non-null    object\n",
      " 5   Freedom to make life choices  156 non-null    object\n",
      " 6   Perceptions of corruption     156 non-null    object\n",
      "dtypes: int64(1), object(6)\n",
      "memory usage: 8.7+ KB\n"
     ]
    }
   ],
   "source": [
    "air2.info()"
   ]
  },
  {
   "cell_type": "code",
   "execution_count": 57,
   "id": "8cd9efa3",
   "metadata": {},
   "outputs": [],
   "source": [
    "air2['Score'] = pd.to_numeric(air2['Score'], errors='coerce').astype(int)\n",
    "air2['GDP per capita'] = pd.to_numeric(air2['GDP per capita'], errors='coerce').astype(int)\n",
    "air2['Social support'] = pd.to_numeric(air2['Social support'], errors='coerce').astype(int)\n",
    "air2['Healthy life expectancy'] = pd.to_numeric(air2['Healthy life expectancy'], errors='coerce').astype(int)\n",
    "air2['Freedom to make life choices'] = pd.to_numeric(air2['Freedom to make life choices'], errors='coerce').astype(int)\n",
    "air2['Perceptions of corruption'] = pd.to_numeric(air2['Perceptions of corruption'], errors='coerce').astype(int)"
   ]
  },
  {
   "cell_type": "code",
   "execution_count": 58,
   "id": "644ea5de",
   "metadata": {},
   "outputs": [
    {
     "name": "stdout",
     "output_type": "stream",
     "text": [
      "<class 'pandas.core.frame.DataFrame'>\n",
      "RangeIndex: 156 entries, 0 to 155\n",
      "Data columns (total 7 columns):\n",
      " #   Column                        Non-Null Count  Dtype\n",
      "---  ------                        --------------  -----\n",
      " 0   Overall rank                  156 non-null    int64\n",
      " 1   Score                         156 non-null    int32\n",
      " 2   GDP per capita                156 non-null    int32\n",
      " 3   Social support                156 non-null    int32\n",
      " 4   Healthy life expectancy       156 non-null    int32\n",
      " 5   Freedom to make life choices  156 non-null    int32\n",
      " 6   Perceptions of corruption     156 non-null    int32\n",
      "dtypes: int32(6), int64(1)\n",
      "memory usage: 5.0 KB\n"
     ]
    }
   ],
   "source": [
    "air2.info()"
   ]
  },
  {
   "cell_type": "code",
   "execution_count": 59,
   "id": "49321f12",
   "metadata": {},
   "outputs": [
    {
     "data": {
      "text/html": [
       "<div>\n",
       "<style scoped>\n",
       "    .dataframe tbody tr th:only-of-type {\n",
       "        vertical-align: middle;\n",
       "    }\n",
       "\n",
       "    .dataframe tbody tr th {\n",
       "        vertical-align: top;\n",
       "    }\n",
       "\n",
       "    .dataframe thead th {\n",
       "        text-align: right;\n",
       "    }\n",
       "</style>\n",
       "<table border=\"1\" class=\"dataframe\">\n",
       "  <thead>\n",
       "    <tr style=\"text-align: right;\">\n",
       "      <th></th>\n",
       "      <th>Overall rank</th>\n",
       "      <th>Score</th>\n",
       "      <th>GDP per capita</th>\n",
       "      <th>Social support</th>\n",
       "      <th>Healthy life expectancy</th>\n",
       "      <th>Freedom to make life choices</th>\n",
       "      <th>Perceptions of corruption</th>\n",
       "    </tr>\n",
       "  </thead>\n",
       "  <tbody>\n",
       "    <tr>\n",
       "      <th>0</th>\n",
       "      <td>1</td>\n",
       "      <td>7769</td>\n",
       "      <td>134</td>\n",
       "      <td>1587</td>\n",
       "      <td>986</td>\n",
       "      <td>596</td>\n",
       "      <td>393</td>\n",
       "    </tr>\n",
       "    <tr>\n",
       "      <th>1</th>\n",
       "      <td>2</td>\n",
       "      <td>76</td>\n",
       "      <td>1383</td>\n",
       "      <td>1573</td>\n",
       "      <td>996</td>\n",
       "      <td>592</td>\n",
       "      <td>41</td>\n",
       "    </tr>\n",
       "    <tr>\n",
       "      <th>2</th>\n",
       "      <td>3</td>\n",
       "      <td>7554</td>\n",
       "      <td>1488</td>\n",
       "      <td>1582</td>\n",
       "      <td>1028</td>\n",
       "      <td>603</td>\n",
       "      <td>341</td>\n",
       "    </tr>\n",
       "    <tr>\n",
       "      <th>3</th>\n",
       "      <td>4</td>\n",
       "      <td>7494</td>\n",
       "      <td>138</td>\n",
       "      <td>1624</td>\n",
       "      <td>1026</td>\n",
       "      <td>591</td>\n",
       "      <td>118</td>\n",
       "    </tr>\n",
       "    <tr>\n",
       "      <th>4</th>\n",
       "      <td>5</td>\n",
       "      <td>7488</td>\n",
       "      <td>1396</td>\n",
       "      <td>1522</td>\n",
       "      <td>999</td>\n",
       "      <td>557</td>\n",
       "      <td>298</td>\n",
       "    </tr>\n",
       "    <tr>\n",
       "      <th>5</th>\n",
       "      <td>6</td>\n",
       "      <td>748</td>\n",
       "      <td>1452</td>\n",
       "      <td>1526</td>\n",
       "      <td>1052</td>\n",
       "      <td>572</td>\n",
       "      <td>343</td>\n",
       "    </tr>\n",
       "    <tr>\n",
       "      <th>6</th>\n",
       "      <td>7</td>\n",
       "      <td>7343</td>\n",
       "      <td>1387</td>\n",
       "      <td>1487</td>\n",
       "      <td>1009</td>\n",
       "      <td>574</td>\n",
       "      <td>373</td>\n",
       "    </tr>\n",
       "    <tr>\n",
       "      <th>7</th>\n",
       "      <td>8</td>\n",
       "      <td>7307</td>\n",
       "      <td>1303</td>\n",
       "      <td>1557</td>\n",
       "      <td>1026</td>\n",
       "      <td>585</td>\n",
       "      <td>38</td>\n",
       "    </tr>\n",
       "    <tr>\n",
       "      <th>8</th>\n",
       "      <td>9</td>\n",
       "      <td>7278</td>\n",
       "      <td>1365</td>\n",
       "      <td>1505</td>\n",
       "      <td>1039</td>\n",
       "      <td>584</td>\n",
       "      <td>308</td>\n",
       "    </tr>\n",
       "    <tr>\n",
       "      <th>9</th>\n",
       "      <td>10</td>\n",
       "      <td>7246</td>\n",
       "      <td>1376</td>\n",
       "      <td>1475</td>\n",
       "      <td>1016</td>\n",
       "      <td>532</td>\n",
       "      <td>226</td>\n",
       "    </tr>\n",
       "  </tbody>\n",
       "</table>\n",
       "</div>"
      ],
      "text/plain": [
       "   Overall rank  Score  GDP per capita  Social support  \\\n",
       "0             1   7769             134            1587   \n",
       "1             2     76            1383            1573   \n",
       "2             3   7554            1488            1582   \n",
       "3             4   7494             138            1624   \n",
       "4             5   7488            1396            1522   \n",
       "5             6    748            1452            1526   \n",
       "6             7   7343            1387            1487   \n",
       "7             8   7307            1303            1557   \n",
       "8             9   7278            1365            1505   \n",
       "9            10   7246            1376            1475   \n",
       "\n",
       "   Healthy life expectancy  Freedom to make life choices  \\\n",
       "0                      986                           596   \n",
       "1                      996                           592   \n",
       "2                     1028                           603   \n",
       "3                     1026                           591   \n",
       "4                      999                           557   \n",
       "5                     1052                           572   \n",
       "6                     1009                           574   \n",
       "7                     1026                           585   \n",
       "8                     1039                           584   \n",
       "9                     1016                           532   \n",
       "\n",
       "   Perceptions of corruption  \n",
       "0                        393  \n",
       "1                         41  \n",
       "2                        341  \n",
       "3                        118  \n",
       "4                        298  \n",
       "5                        343  \n",
       "6                        373  \n",
       "7                         38  \n",
       "8                        308  \n",
       "9                        226  "
      ]
     },
     "execution_count": 59,
     "metadata": {},
     "output_type": "execute_result"
    }
   ],
   "source": [
    "air2.head(10)"
   ]
  },
  {
   "cell_type": "code",
   "execution_count": 45,
   "id": "zF2YEzyDl-9C",
   "metadata": {
    "colab": {
     "base_uri": "https://localhost:8080/"
    },
    "id": "zF2YEzyDl-9C",
    "outputId": "16b490f8-41b8-49ad-8125-bd6cdb85da73"
   },
   "outputs": [],
   "source": [
    "#pip install pickle - mixin"
   ]
  },
  {
   "cell_type": "code",
   "execution_count": 64,
   "id": "AAYB73pXmE2t",
   "metadata": {
    "id": "AAYB73pXmE2t"
   },
   "outputs": [],
   "source": [
    "import pickle"
   ]
  },
  {
   "cell_type": "code",
   "execution_count": 65,
   "id": "3W6qj1PQmQpu",
   "metadata": {
    "id": "3W6qj1PQmQpu"
   },
   "outputs": [],
   "source": [
    "filename = 'gdp.sav'\n",
    "pickle.dump(LinReg, open(filename, 'wb'))"
   ]
  },
  {
   "cell_type": "code",
   "execution_count": 66,
   "id": "tAjK5hX1naP2",
   "metadata": {
    "id": "tAjK5hX1naP2"
   },
   "outputs": [],
   "source": [
    "loaded_model = pickle.load(open('gdp.sav', 'rb'))"
   ]
  },
  {
   "cell_type": "code",
   "execution_count": 67,
   "id": "UiHPSwdZoGJg",
   "metadata": {
    "colab": {
     "base_uri": "https://localhost:8080/"
    },
    "id": "UiHPSwdZoGJg",
    "outputId": "b542ccfa-fc82-4f71-9f6a-0a0237213dc1",
    "scrolled": false
   },
   "outputs": [
    {
     "name": "stdout",
     "output_type": "stream",
     "text": [
      "[[7.82560209e-01]\n",
      " [3.92414531e+03]\n",
      " [6.77067669e+02]\n",
      " [8.01819291e+02]\n",
      " [4.98273846e+02]\n",
      " [3.01297601e+02]\n",
      " [1.98768940e+02]]\n",
      "GDP tidak mempengaruhi harapan hidup sehat\n"
     ]
    }
   ],
   "source": [
    "input_data = (1, 7769, 1340, 1587, 986, 596, 393)\n",
    "\n",
    "input_data_as_numpy_array = np.asarray(input_data)\n",
    "input_data_reshaped = input_data_as_numpy_array.reshape(-1, 1)\n",
    "\n",
    "prediction = LinReg.predict(input_data_reshaped)\n",
    "print(prediction)\n",
    "\n",
    "if (prediction[0] == 0):\n",
    "  print('GDP mempengaruhi harapan hidup sehat')\n",
    "else :\n",
    "  print('GDP tidak mempengaruhi harapan hidup sehat')"
   ]
  },
  {
   "cell_type": "markdown",
   "id": "722ff1d7",
   "metadata": {},
   "source": [
    "streamlit run \"C:\\Users\\stanl\\Tugas Kuli\\Datmod\\UAS\\GDPPredictionWebApp.py\""
   ]
  },
  {
   "cell_type": "markdown",
   "id": "06d53302",
   "metadata": {
    "id": "K0BWgNTq9vx1"
   },
   "source": [
    "#### "
   ]
  },
  {
   "cell_type": "code",
   "execution_count": 43,
   "id": "2ec0864d",
   "metadata": {
    "scrolled": true
   },
   "outputs": [
    {
     "name": "stdout",
     "output_type": "stream",
     "text": [
      "Overall rank                     int64\n",
      "Score                           object\n",
      "GDP per capita                  object\n",
      "Social support                  object\n",
      "Healthy life expectancy         object\n",
      "Freedom to make life choices    object\n",
      "Perceptions of corruption       object\n",
      "dtype: object\n"
     ]
    }
   ],
   "source": [
    "print(air2.dtypes)"
   ]
  },
  {
   "cell_type": "code",
   "execution_count": 44,
   "id": "4045b35c",
   "metadata": {},
   "outputs": [
    {
     "data": {
      "text/html": [
       "<div>\n",
       "<style scoped>\n",
       "    .dataframe tbody tr th:only-of-type {\n",
       "        vertical-align: middle;\n",
       "    }\n",
       "\n",
       "    .dataframe tbody tr th {\n",
       "        vertical-align: top;\n",
       "    }\n",
       "\n",
       "    .dataframe thead th {\n",
       "        text-align: right;\n",
       "    }\n",
       "</style>\n",
       "<table border=\"1\" class=\"dataframe\">\n",
       "  <thead>\n",
       "    <tr style=\"text-align: right;\">\n",
       "      <th></th>\n",
       "      <th>Overall rank</th>\n",
       "      <th>Score</th>\n",
       "      <th>GDP per capita</th>\n",
       "      <th>Social support</th>\n",
       "      <th>Healthy life expectancy</th>\n",
       "      <th>Freedom to make life choices</th>\n",
       "      <th>Perceptions of corruption</th>\n",
       "    </tr>\n",
       "  </thead>\n",
       "  <tbody>\n",
       "    <tr>\n",
       "      <th>0</th>\n",
       "      <td>1</td>\n",
       "      <td>7769</td>\n",
       "      <td>134</td>\n",
       "      <td>1587</td>\n",
       "      <td>0986</td>\n",
       "      <td>0596</td>\n",
       "      <td>0393</td>\n",
       "    </tr>\n",
       "    <tr>\n",
       "      <th>1</th>\n",
       "      <td>2</td>\n",
       "      <td>76</td>\n",
       "      <td>1383</td>\n",
       "      <td>1573</td>\n",
       "      <td>0996</td>\n",
       "      <td>0592</td>\n",
       "      <td>041</td>\n",
       "    </tr>\n",
       "    <tr>\n",
       "      <th>2</th>\n",
       "      <td>3</td>\n",
       "      <td>7554</td>\n",
       "      <td>1488</td>\n",
       "      <td>1582</td>\n",
       "      <td>1028</td>\n",
       "      <td>0603</td>\n",
       "      <td>0341</td>\n",
       "    </tr>\n",
       "    <tr>\n",
       "      <th>3</th>\n",
       "      <td>4</td>\n",
       "      <td>7494</td>\n",
       "      <td>138</td>\n",
       "      <td>1624</td>\n",
       "      <td>1026</td>\n",
       "      <td>0591</td>\n",
       "      <td>0118</td>\n",
       "    </tr>\n",
       "    <tr>\n",
       "      <th>4</th>\n",
       "      <td>5</td>\n",
       "      <td>7488</td>\n",
       "      <td>1396</td>\n",
       "      <td>1522</td>\n",
       "      <td>0999</td>\n",
       "      <td>0557</td>\n",
       "      <td>0298</td>\n",
       "    </tr>\n",
       "    <tr>\n",
       "      <th>5</th>\n",
       "      <td>6</td>\n",
       "      <td>748</td>\n",
       "      <td>1452</td>\n",
       "      <td>1526</td>\n",
       "      <td>1052</td>\n",
       "      <td>0572</td>\n",
       "      <td>0343</td>\n",
       "    </tr>\n",
       "    <tr>\n",
       "      <th>6</th>\n",
       "      <td>7</td>\n",
       "      <td>7343</td>\n",
       "      <td>1387</td>\n",
       "      <td>1487</td>\n",
       "      <td>1009</td>\n",
       "      <td>0574</td>\n",
       "      <td>0373</td>\n",
       "    </tr>\n",
       "    <tr>\n",
       "      <th>7</th>\n",
       "      <td>8</td>\n",
       "      <td>7307</td>\n",
       "      <td>1303</td>\n",
       "      <td>1557</td>\n",
       "      <td>1026</td>\n",
       "      <td>0585</td>\n",
       "      <td>038</td>\n",
       "    </tr>\n",
       "    <tr>\n",
       "      <th>8</th>\n",
       "      <td>9</td>\n",
       "      <td>7278</td>\n",
       "      <td>1365</td>\n",
       "      <td>1505</td>\n",
       "      <td>1039</td>\n",
       "      <td>0584</td>\n",
       "      <td>0308</td>\n",
       "    </tr>\n",
       "    <tr>\n",
       "      <th>9</th>\n",
       "      <td>10</td>\n",
       "      <td>7246</td>\n",
       "      <td>1376</td>\n",
       "      <td>1475</td>\n",
       "      <td>1016</td>\n",
       "      <td>0532</td>\n",
       "      <td>0226</td>\n",
       "    </tr>\n",
       "  </tbody>\n",
       "</table>\n",
       "</div>"
      ],
      "text/plain": [
       "   Overall rank Score GDP per capita Social support Healthy life expectancy  \\\n",
       "0             1  7769            134           1587                    0986   \n",
       "1             2    76           1383           1573                    0996   \n",
       "2             3  7554           1488           1582                    1028   \n",
       "3             4  7494            138           1624                    1026   \n",
       "4             5  7488           1396           1522                    0999   \n",
       "5             6   748           1452           1526                    1052   \n",
       "6             7  7343           1387           1487                    1009   \n",
       "7             8  7307           1303           1557                    1026   \n",
       "8             9  7278           1365           1505                    1039   \n",
       "9            10  7246           1376           1475                    1016   \n",
       "\n",
       "  Freedom to make life choices Perceptions of corruption  \n",
       "0                         0596                      0393  \n",
       "1                         0592                       041  \n",
       "2                         0603                      0341  \n",
       "3                         0591                      0118  \n",
       "4                         0557                      0298  \n",
       "5                         0572                      0343  \n",
       "6                         0574                      0373  \n",
       "7                         0585                       038  \n",
       "8                         0584                      0308  \n",
       "9                         0532                      0226  "
      ]
     },
     "execution_count": 44,
     "metadata": {},
     "output_type": "execute_result"
    }
   ],
   "source": [
    "air2.head(10)"
   ]
  }
 ],
 "metadata": {
  "colab": {
   "provenance": []
  },
  "kernelspec": {
   "display_name": "Python 3 (ipykernel)",
   "language": "python",
   "name": "python3"
  },
  "language_info": {
   "codemirror_mode": {
    "name": "ipython",
    "version": 3
   },
   "file_extension": ".py",
   "mimetype": "text/x-python",
   "name": "python",
   "nbconvert_exporter": "python",
   "pygments_lexer": "ipython3",
   "version": "3.9.12"
  }
 },
 "nbformat": 4,
 "nbformat_minor": 5
}
